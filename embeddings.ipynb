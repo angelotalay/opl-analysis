{
 "cells": [
  {
   "cell_type": "markdown",
   "id": "6e55e631-2677-4da8-a111-47b38778fd4e",
   "metadata": {},
   "source": [
    "# PubmedBert Embedding "
   ]
  },
  {
   "cell_type": "code",
   "execution_count": 4,
   "id": "45b41312-9648-490f-a080-554ad17811bf",
   "metadata": {},
   "outputs": [],
   "source": [
    "import os\n",
    "from pathlib import Path\n",
    "import sys\n",
    "node_type = os.getenv('BB_CPU')\n",
    "venv_dir = f'/rds/homes/t/talayag/talayag-agt-computations/opl_analysis/opl-venv-{node_type}'  # edit this line to match the venv directory format\n",
    "venv_site_pkgs = Path(venv_dir) / 'lib' / f'python{sys.version_info.major}.{sys.version_info.minor}' / 'site-packages'\n",
    "if venv_site_pkgs.exists():\n",
    "    sys.path.insert(0, str(venv_site_pkgs))\n",
    "else:\n",
    "    print(f\"Path '{venv_site_pkgs}' not found. Check that it exists and/or that it exists for node-type '{node_type}'.\")"
   ]
  },
  {
   "cell_type": "code",
   "execution_count": 5,
   "id": "62975512-f0f7-43b6-a78b-5f4e03910a67",
   "metadata": {
    "scrolled": true
   },
   "outputs": [
    {
     "name": "stderr",
     "output_type": "stream",
     "text": [
      "/rds/homes/t/talayag/talayag-agt-computations/opl_analysis/opl-venv-icelake/lib/python3.10/site-packages/tqdm/auto.py:21: TqdmWarning: IProgress not found. Please update jupyter and ipywidgets. See https://ipywidgets.readthedocs.io/en/stable/user_install.html\n",
      "  from .autonotebook import tqdm as notebook_tqdm\n"
     ]
    }
   ],
   "source": [
    "import pandas as pd \n",
    "\n",
    "import transformers\n",
    "\n",
    "from sentence_transformers import SentenceTransformer, util"
   ]
  },
  {
   "cell_type": "code",
   "execution_count": 6,
   "id": "0b0b948c-62a2-4b8c-b9a7-e93390f9238c",
   "metadata": {
    "scrolled": true
   },
   "outputs": [],
   "source": [
    "articles =pd.read_csv('../data/bq-results-20240801-141038-1722521480060.csv')\n",
    "question_titles = pd.read_csv(\"../data/selected-open-problems1.csv\", skiprows=1)\n"
   ]
  },
  {
   "cell_type": "code",
   "execution_count": 7,
   "id": "e26e598e-2fc8-4ad8-ab56-9f505491de0c",
   "metadata": {},
   "outputs": [
    {
     "name": "stdout",
     "output_type": "stream",
     "text": [
      "Article data frame description\n",
      "                               title                abstract\n",
      "count                         389627                  340932\n",
      "unique                        254697                  339505\n",
      "top     Hypertension in the elderly.  Cross-sectional study.\n",
      "freq                              19                     154\n",
      "Columns: Index(['title', 'abstract'], dtype='object')\n",
      "------------------------\n",
      "Open problems data frame description\n",
      "       Scores\n",
      "count   189.0\n",
      "mean      4.0\n",
      "std       0.0\n",
      "min       4.0\n",
      "25%       4.0\n",
      "50%       4.0\n",
      "75%       4.0\n",
      "max       4.0\n",
      "Columns: Index(['Titles', 'Scores'], dtype='object')\n"
     ]
    }
   ],
   "source": [
    "print(\"Article data frame description\")\n",
    "print(articles.describe())\n",
    "print(f\"Columns: {articles.columns}\")\n",
    "print(\"------------------------\")\n",
    "print(\"Open problems data frame description\")\n",
    "print(question_titles.describe())\n",
    "print(f\"Columns: {question_titles.columns}\")"
   ]
  },
  {
   "cell_type": "markdown",
   "id": "8b328aaa-dd67-4065-a79c-3e519ccff71c",
   "metadata": {},
   "source": [
    "# Pre-processing"
   ]
  },
  {
   "cell_type": "code",
   "execution_count": 8,
   "id": "6ad08d54-40ac-45d3-b1d4-1b23c98609d8",
   "metadata": {},
   "outputs": [],
   "source": [
    "# Pre processing functions\n",
    "def strip_columns(text): \n",
    "    text = text.strip().strip(\"[]\")\n",
    "    text = text.replace(\"]\", \"\")\n",
    "    return text "
   ]
  },
  {
   "cell_type": "code",
   "execution_count": 9,
   "id": "f731f8bf-6a4e-4443-81e5-8830c8f125d8",
   "metadata": {
    "scrolled": true
   },
   "outputs": [],
   "source": [
    "# Test data\n",
    "first_ten_sentences = articles['title'].head(10)\n",
    "first_ten_sentences = first_ten_sentences.apply(strip_columns)\n",
    "\n",
    "first_ten_abstracts = articles['abstract'].head(10)\n",
    "first_ten_abstracts = first_ten_abstracts.apply(strip_columns)\n",
    "\n",
    "first_100_abstracts = articles['abstract'].head(100)\n",
    "first_100_abstracts = first_100_abstracts.apply(strip_columns)\n",
    "\n",
    "\n",
    "first_open_problem = question_titles['Titles'].head(1)"
   ]
  },
  {
   "cell_type": "code",
   "execution_count": 14,
   "id": "e4318ded-8347-4709-8dad-47bcdc7e8cbe",
   "metadata": {},
   "outputs": [
    {
     "name": "stdout",
     "output_type": "stream",
     "text": [
      "                                                    title  \\\n",
      "count                                              340916   \n",
      "unique                                             207123   \n",
      "top     Early life determinants of physical activity i...   \n",
      "freq                                                   14   \n",
      "\n",
      "                      abstract  \n",
      "count                   340916  \n",
      "unique                  339489  \n",
      "top     Cross-sectional study.  \n",
      "freq                       154  \n"
     ]
    },
    {
     "data": {
      "text/html": [
       "<div>\n",
       "<style scoped>\n",
       "    .dataframe tbody tr th:only-of-type {\n",
       "        vertical-align: middle;\n",
       "    }\n",
       "\n",
       "    .dataframe tbody tr th {\n",
       "        vertical-align: top;\n",
       "    }\n",
       "\n",
       "    .dataframe thead th {\n",
       "        text-align: right;\n",
       "    }\n",
       "</style>\n",
       "<table border=\"1\" class=\"dataframe\">\n",
       "  <thead>\n",
       "    <tr style=\"text-align: right;\">\n",
       "      <th></th>\n",
       "      <th>title</th>\n",
       "      <th>abstract</th>\n",
       "    </tr>\n",
       "  </thead>\n",
       "  <tbody>\n",
       "    <tr>\n",
       "      <th>0</th>\n",
       "      <td>Effect of nootropil on the ultrastructure of t...</td>\n",
       "      <td>The brain cortex was studied in 7 Wistar rats ...</td>\n",
       "    </tr>\n",
       "    <tr>\n",
       "      <th>1</th>\n",
       "      <td>Effect of thyroid hormones and diacylglycerols...</td>\n",
       "      <td>Sphingomyelin metabolism in liver cell nuclei ...</td>\n",
       "    </tr>\n",
       "    <tr>\n",
       "      <th>2</th>\n",
       "      <td>Age-related frailty and its association with b...</td>\n",
       "      <td>The relationship between age-related frailty a...</td>\n",
       "    </tr>\n",
       "    <tr>\n",
       "      <th>3</th>\n",
       "      <td>Age-related frailty and its association with b...</td>\n",
       "      <td>We analyzed baseline data and up to 7-year mor...</td>\n",
       "    </tr>\n",
       "    <tr>\n",
       "      <th>4</th>\n",
       "      <td>Age-related frailty and its association with b...</td>\n",
       "      <td>The mean FI-B was 0.35 (SD, 0.08), higher than...</td>\n",
       "    </tr>\n",
       "  </tbody>\n",
       "</table>\n",
       "</div>"
      ],
      "text/plain": [
       "                                               title  \\\n",
       "0  Effect of nootropil on the ultrastructure of t...   \n",
       "1  Effect of thyroid hormones and diacylglycerols...   \n",
       "2  Age-related frailty and its association with b...   \n",
       "3  Age-related frailty and its association with b...   \n",
       "4  Age-related frailty and its association with b...   \n",
       "\n",
       "                                            abstract  \n",
       "0  The brain cortex was studied in 7 Wistar rats ...  \n",
       "1  Sphingomyelin metabolism in liver cell nuclei ...  \n",
       "2  The relationship between age-related frailty a...  \n",
       "3  We analyzed baseline data and up to 7-year mor...  \n",
       "4  The mean FI-B was 0.35 (SD, 0.08), higher than...  "
      ]
     },
     "execution_count": 14,
     "metadata": {},
     "output_type": "execute_result"
    }
   ],
   "source": [
    "# For use \n",
    "articles_abstracts = articles\n",
    "open_problems = question_titles\n",
    "\n",
    "#Drop rows with empty titles or abstracts \n",
    "articles_abstracts = articles_abstracts.dropna()\n",
    "print(articles_abstracts.describe())\n",
    "\n",
    "#Strip the titles and abstracts \n",
    "articles_abstracts.loc[:,\"title\"] = articles_abstracts[\"title\"].apply(strip_columns)\n",
    "articles_abstracts.loc[:,\"abstract\"] = articles_abstracts[\"abstract\"].apply(strip_columns)\n",
    "articles_abstracts.reset_index(drop=True, inplace=True)\n",
    "\n",
    "articles_abstracts.head()"
   ]
  },
  {
   "cell_type": "code",
   "execution_count": 16,
   "id": "7f3ef69c-fb42-41b7-b334-fda957adb287",
   "metadata": {},
   "outputs": [],
   "source": [
    "# All articles abstracts with title and abstract concatenated\n",
    "articles_abstracts.loc[:,'title_abstract'] = articles_abstracts.loc[:,'title'] + \" \" + articles_abstracts.loc[:,'abstract']"
   ]
  },
  {
   "cell_type": "markdown",
   "id": "e2883d09-f336-4813-bff5-8a303ef25280",
   "metadata": {},
   "source": [
    "### Test for semantic text similarity "
   ]
  },
  {
   "cell_type": "code",
   "execution_count": 17,
   "id": "c07cac48-a560-4504-ab5a-61d8eae0e39d",
   "metadata": {},
   "outputs": [],
   "source": [
    "def get_embeddings(queries, corpus, model, convert_to_tensor=False): \n",
    "    query_embeddings = model.encode(queries, convert_to_tensor=convert_to_tensor)\n",
    "    corpus_embeddings = model.encode(corpus, convert_to_tensor=convert_to_tensor)\n",
    "    return query_embeddings, corpus_embeddings"
   ]
  },
  {
   "cell_type": "code",
   "execution_count": 18,
   "id": "0daed7f9-b1cc-4ef2-a606-c5b4f48ce768",
   "metadata": {},
   "outputs": [],
   "source": [
    "import warnings\n",
    "warnings.filterwarnings('ignore')\n",
    "model = SentenceTransformer(\"neuml/pubmedbert-base-embeddings\")\n",
    "\n",
    "query_embeddings, corpus_embeddings = get_embeddings(first_open_problem, first_ten_sentences, model)"
   ]
  },
  {
   "cell_type": "code",
   "execution_count": 19,
   "id": "b81d4530-1bb6-4316-975b-fcf5c2d9e92f",
   "metadata": {},
   "outputs": [],
   "source": [
    "# compute similarities \n",
    "similarities = model.similarity(query_embeddings, corpus_embeddings)"
   ]
  },
  {
   "cell_type": "code",
   "execution_count": 20,
   "id": "501cca02-a664-4ff9-82a7-8f21d7edb265",
   "metadata": {},
   "outputs": [
    {
     "name": "stdout",
     "output_type": "stream",
     "text": [
      "Which changes in model organisms associated with ageing also change in a similar way in humans?\n",
      " - Effect of nootropil on the ultrastructure of the cerebral cortex of the aged rat.: 0.1021\n",
      " - Effect of thyroid hormones and diacylglycerols on sphingomyelin metabolism in liver cell nuclei in rats of various ages.: 0.1216\n",
      " - Age-related frailty and its association with biological markers of ageing.: 0.4401\n",
      " - Age-related frailty and its association with biological markers of ageing.: 0.4401\n",
      " - Age-related frailty and its association with biological markers of ageing.: 0.4401\n",
      " - Age-related frailty and its association with biological markers of ageing.: 0.4401\n",
      " - Forensic neuropsychology in the aging and the dementias.: 0.1433\n",
      " - Broadening the definition of brain insulin resistance in aging and Alzheimer's disease.: 0.2138\n",
      " - Participation of the brain serotoninergic system in creating the stress reactivity of the hypophyseal-adrenal axis.: 0.0207\n",
      " - Effects of perfluorooctanoic acid (PFOA) on expression of peroxisome proliferator-activated receptors (PPAR) and nuclear receptor-regulated genes in fetal and postnatal CD-1 mouse tissues.: 0.0082\n"
     ]
    }
   ],
   "source": [
    "# output scores \n",
    "for idx_i, sentence_1 in enumerate(first_open_problem): \n",
    "    print(sentence_1)\n",
    "    for idx_j, sentence_2 in enumerate(first_ten_sentences):\n",
    "        print(f\" - {sentence_2: <30}: {similarities[idx_i][idx_j]:.4f}\")\n"
   ]
  },
  {
   "cell_type": "markdown",
   "id": "dbb3dfc7-9708-4137-aac4-9b18b1a108af",
   "metadata": {},
   "source": [
    "## Test for semantic search"
   ]
  },
  {
   "cell_type": "code",
   "execution_count": 21,
   "id": "cc366551-e040-4b62-b4ad-9fdcefc8b901",
   "metadata": {},
   "outputs": [],
   "source": [
    "# Test data - use abstracts \n",
    "corpus = model.encode(first_100_abstracts)\n",
    "\n",
    "similarity_scores = util.semantic_search(query_embeddings, corpus_embeddings, top_k=10)"
   ]
  },
  {
   "cell_type": "code",
   "execution_count": 22,
   "id": "8596302e-77f2-452b-bc58-fd3980651b5e",
   "metadata": {},
   "outputs": [
    {
     "name": "stdout",
     "output_type": "stream",
     "text": [
      "Query: 0    Which changes in model organisms associated wi...\n",
      "Name: Titles, dtype: object\n",
      "Many biological processes are implicated in ageing. The systemic effects of these processes can be elucidated using the frailty index approach, which showed here that subclinical deficits increased the risk of death. In the future, blood biomarkers may indicate the nature of the underlying causal deficits leading to age-related frailty, thereby helping to expose targets for early preventative interventions.\n",
      "\t Score: 0.44008374214172363\n",
      "-----------------------------------------------\n",
      "The relationship between age-related frailty and the underlying processes that drive changes in health is currently unclear. Considered individually, most blood biomarkers show only weak relationships with frailty and ageing. Here, we examined whether a biomarker-based frailty index (FI-B) allowed examination of their collective effect in predicting mortality compared with individual biomarkers, a clinical deficits frailty index (FI-CD), and the Fried frailty phenotype.\n",
      "\t Score: 0.44008374214172363\n",
      "-----------------------------------------------\n",
      "We analyzed baseline data and up to 7-year mortality in the Newcastle 85+ Study (n = 845; mean age 85.5). The FI-B combined 40 biomarkers of cellular ageing, inflammation, haematology, and immunosenescence. The Kaplan-Meier estimator was used to stratify participants into FI-B risk strata. Stability of the risk estimates for the FI-B was assessed using iterative, random subsampling of the 40 FI-B items. Predictive validity was tested using Cox proportional hazards analysis and discriminative ability by the area under receiver operating characteristic (ROC) curves.\n",
      "\t Score: 0.44008374214172363\n",
      "-----------------------------------------------\n",
      "The mean FI-B was 0.35 (SD, 0.08), higher than the mean FI-CD (0.22; SD, 0.12); no participant had an FI-B score <0.12. Higher values of each FI were associated with higher mortality risk. In a sex-adjusted model, each one percent increase in the FI-B increased the hazard ratio by 5.4 % (HR, 1.05; CI, 1.04-1.06). The FI-B was more powerful for mortality prediction than any individual biomarker and was robust to biomarker substitution. The ROC analysis showed moderate discriminative ability for 7-year mortality (AUC for FI-CD = 0.71 and AUC for FI-B = 0.66). No individual biomarker's AUC exceeded 0.61. The AUC for combined FI-CD/FI-B was 0.75.\n",
      "\t Score: 0.44008374214172363\n",
      "-----------------------------------------------\n",
      "It has been >20 years since studies first revealed that the brain is insulin sensitive, highlighted by the expression of insulin receptors in neurons and glia, the presence of circulating brain insulin, and even localized insulin production. Following these discoveries, evidence of decreased brain insulin receptor number and function was reported in both clinical samples and animal models of aging and Alzheimer's disease, setting the stage for the hypothesis that neuronal insulin resistance may underlie memory loss in these conditions. The development of therapeutic insulin delivery to the brain using intranasal insulin administration has been shown to improve aspects of memory or learning in both humans and animal models. However, whether this approach functions by compensating for poorly signaling insulin receptors, for reduced insulin levels in the brain, or for reduced trafficking of insulin into the brain remains unclear. Direct measures of insulin's impact on cellular physiology and metabolism in the brain have been sparse in models of Alzheimer's disease, and even fewer studies have analyzed these processes in the aged brain. Nevertheless, recent evidence supports the role of brain insulin as a mediator of glucose metabolism through several means, including altering glucose transporters. Here, we provide a review of contemporary literature on brain insulin resistance, highlight the rationale for improving memory function using intranasal insulin, and describe initial results from experiments using a molecular approach to more directly measure the impact of insulin receptor activation and signaling on glucose uptake in neurons.\n",
      "\t Score: 0.21380333602428436\n",
      "-----------------------------------------------\n",
      "INTRODUCTION. Forensic Neuropsychology establishes an expert valuation of the brain-injured patient (or supposed), or of the law offender people (or supposed) requiring law protection due to their illness. This discipline has a fundamental role in the study of cerebral organic syndromes, particularly in the dementias. DEVELOPMENT. The demential syndrome is common to a group of diseases as degenerative or cardiovascular disorders, brain tumors, syphilis, alcoholism or toxic factors, etc. When speaking of dementia we refer to a syndrome characterized by a progressive and global deterioration of the cognitive functions (memory, language, attention, space-temporal orientation, praxis, thinking, etc.) with preservation of the level of conscience (DSM-IV). This symptomatology affects the personality of the individual as reasonable being , as well as to his behavior and social adaptation. The decrease or loss of the intellectual and volitives abilities of the affected person of a demential syndrome, if it is permanent, also implies a change in its legal situation, since its legal capacity is altered. Therefore, it will be necessary to adopt protective measures for his person and his patrimony. Even if it is necessary, to promote a process of disability, whose sentence will be emitted by a judge, who will indicate: the degree of the mentioned disability, the trusteeship regime and who is designated as a legal tutor.\n",
      "\t Score: 0.1432659775018692\n",
      "-----------------------------------------------\n",
      "Sphingomyelin metabolism in liver cell nuclei of rats of various age has been studied. It was found that the level of sphingomyelin hydrolysis in cell nuclei is the highest in young animals, showing a decrease in 24-month-old animals. The age-specific fluctuations in the activity of phospholipase C may be one of possible reasons for sphingomyelinase activity changes in liver nuclei during ontogenesis. It has been shown that thyroid hormones and diacylglycerols control the sphingomyelinase activity in rat liver cells.\n",
      "\t Score: 0.12158003449440002\n",
      "-----------------------------------------------\n",
      "The brain cortex was studied in 7 Wistar rats aged 25-35 months. Rats receiving nootropil (piracetam) showed intracellular regeneration (enrichment of neuronal nuclei for chromatin, increased degree of plication of nuclear membrane, nucleolar hypertrophy, increase in the number of cellular organellae which created a picture of perinuclear hyperchromatosis). Another important effect of nootropil was dramatic reduction of hydropsy of the neural tissue. Nootropil use was also associated with the development and strengthening of the compensatory/adaptive reaction expressed on the morphological level by the development of comprehensive structural contacts of astrocytes, oligodendrocytes and capillaries with different parts and each other. The use of nootropil made it possible to ascertain the reversible pattern of some morphological changes related to physiological aging.\n",
      "\t Score: 0.10213768482208252\n",
      "-----------------------------------------------\n",
      "The concentration of corticosteroids in the blood of rats was shown to increase in response to the immobilization stress at an earlier age than the brain serotonin metabolism changes. The level of corticosteroids in blood increased in response to the intraperitoneal serotonin injection also earlier than the reaction to the serotonin injection in the brain lateral ventricle sets up. The increase of the reaction of hypophysial-suprarenal system to stress during the period from the 12th till the 16th day of postnatal development coincided with the changes in serotonin metabolism in the brain stem and the reaction to serotonin injection in the brain lateral ventricle. It is suggested that the system of serotonin brain neurons connected with the hypophysial-suprarenal complex matures later tran the serotonin receptors in the periphery; the reaction to immobilization may be realized at the early developmental stages without the participation of brain serotonin.\n",
      "\t Score: 0.020694855600595474\n",
      "-----------------------------------------------\n",
      "PPARs regulate metabolism and can be activated by environmental contaminants such as perfluorooctanoic acid (PFOA). PFOA induces neonatal mortality, developmental delay, and growth deficits in mice. Studies in genetically altered mice showed that PPARα is required for PFOA-induced developmental toxicity. In this study, pregnant CD-1 mice were dosed orally from GD1 to 17 with water or 5mg PFOA/kg to examine PPARα, PPARβ, and PPARγ expression and profile the effects of PFOA on PPAR-regulated genes. Prenatal and postnatal liver, heart, adrenal, kidney, intestine, stomach, lung, spleen, and thymus were collected at various developmental ages. RNA and protein were examined using qPCR and Western blot analysis. PPAR expression varied with age in all tissues, and in liver PPARα and PPARγ expression correlated with nutritional changes as the pups matured. As early as GD14, PFOA affected expression of genes involved in lipid and glucose homeostatic control. The metabolic disruption produced by PFOA may contribute to poor postnatal survival and persistent weight deficits of CD-1 mouse neonates.\n",
      "\t Score: 0.008151968941092491\n",
      "-----------------------------------------------\n"
     ]
    }
   ],
   "source": [
    "print(f\"Query: {first_open_problem}\")\n",
    "for hit in similarity_scores[0]:\n",
    "    print(first_ten_abstracts[hit['corpus_id']])\n",
    "    print(f\"\\t Score: {hit['score']}\")\n",
    "    print(f\"-----------------------------------------------\")\n",
    "        \n"
   ]
  },
  {
   "cell_type": "code",
   "execution_count": null,
   "id": "34a0416c-bd92-4ce8-bddb-9afd09ba967c",
   "metadata": {},
   "outputs": [],
   "source": []
  }
 ],
 "metadata": {
  "kernelspec": {
   "display_name": "Python",
   "language": "python",
   "name": "sys_python"
  },
  "language_info": {
   "codemirror_mode": {
    "name": "ipython",
    "version": 3
   },
   "file_extension": ".py",
   "mimetype": "text/x-python",
   "name": "python",
   "nbconvert_exporter": "python",
   "pygments_lexer": "ipython3",
   "version": "3.10.8"
  }
 },
 "nbformat": 4,
 "nbformat_minor": 5
}
